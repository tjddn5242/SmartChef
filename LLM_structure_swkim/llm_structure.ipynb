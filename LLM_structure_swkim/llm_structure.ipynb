{
 "cells": [
  {
   "cell_type": "code",
   "execution_count": 7,
   "metadata": {},
   "outputs": [],
   "source": [
    "from langchain_openai import ChatOpenAI\n",
    "from langchain_community.document_loaders.csv_loader import CSVLoader\n",
    "\n",
    "import pandas as pd\n",
    "import os"
   ]
  },
  {
   "cell_type": "code",
   "execution_count": 3,
   "metadata": {},
   "outputs": [],
   "source": [
    "chat_model = ChatOpenAI(api_key=os.environ['OPENAI_API_KEY'])"
   ]
  },
  {
   "cell_type": "code",
   "execution_count": 4,
   "metadata": {},
   "outputs": [
    {
     "data": {
      "text/plain": [
       "<bound method NDFrame.describe of                 name describe\n",
       "0            RCP_SNO  레시피일련번호\n",
       "1            RCP_TTL    레시피제목\n",
       "2             CKG_NM      요리명\n",
       "3            RGTR_ID    등록자ID\n",
       "4            RGTR_NM     등록자명\n",
       "5            INQ_CNT      조회수\n",
       "6           RCMM_CNT      추천수\n",
       "7           SRAP_CNT     스크랩수\n",
       "8    CKG_MTH_ACTO_NM   요리방법별명\n",
       "9    CKG_STA_ACTO_NM   요리상황별명\n",
       "10  CKG_MTRL_ACTO_NM   요리재료별명\n",
       "11   CKG_KND_ACTO_NM   요리종류별명\n",
       "12          CKG_IPDC     요리소개\n",
       "13       CKG_MTRL_CN   요리재료내용\n",
       "14      CKG_INBUN_NM    요리인분명\n",
       "15       CKG_DODF_NM   요리난이도명\n",
       "16       CKG_TIME_NM    요리시간명\n",
       "17      FIRST_REG_DT   최초등록일시>"
      ]
     },
     "execution_count": 4,
     "metadata": {},
     "output_type": "execute_result"
    }
   ],
   "source": [
    "columns = {\n",
    "    'name': [\n",
    "        'RCP_SNO', 'RCP_TTL', 'CKG_NM', 'RGTR_ID', 'RGTR_NM', 'INQ_CNT',\n",
    "        'RCMM_CNT', 'SRAP_CNT', 'CKG_MTH_ACTO_NM', 'CKG_STA_ACTO_NM', \n",
    "        'CKG_MTRL_ACTO_NM', 'CKG_KND_ACTO_NM', 'CKG_IPDC', 'CKG_MTRL_CN',\n",
    "        'CKG_INBUN_NM', 'CKG_DODF_NM', 'CKG_TIME_NM', 'FIRST_REG_DT'\n",
    "    ],\n",
    "    'describe': [\n",
    "        '레시피일련번호', '레시피제목', '요리명', '등록자ID', '등록자명', '조회수',\n",
    "        '추천수', '스크랩수', '요리방법별명', '요리상황별명', \n",
    "        '요리재료별명', '요리종류별명', '요리소개', '요리재료내용',\n",
    "        '요리인분명', '요리난이도명', '요리시간명', '최초등록일시'\n",
    "    ]\n",
    "}\n",
    "\n",
    "columns = pd.DataFrame(columns)\n",
    "\n",
    "columns.describe"
   ]
  },
  {
   "cell_type": "code",
   "execution_count": 5,
   "metadata": {},
   "outputs": [
    {
     "name": "stderr",
     "output_type": "stream",
     "text": [
      "C:\\Users\\tjddn\\AppData\\Local\\Temp\\ipykernel_27736\\1816373519.py:1: DtypeWarning: Columns (0) have mixed types. Specify dtype option on import or set low_memory=False.\n",
      "  df = pd.read_csv('./data/receipe_dataset.csv')\n"
     ]
    },
    {
     "data": {
      "text/html": [
       "<div>\n",
       "<style scoped>\n",
       "    .dataframe tbody tr th:only-of-type {\n",
       "        vertical-align: middle;\n",
       "    }\n",
       "\n",
       "    .dataframe tbody tr th {\n",
       "        vertical-align: top;\n",
       "    }\n",
       "\n",
       "    .dataframe thead th {\n",
       "        text-align: right;\n",
       "    }\n",
       "</style>\n",
       "<table border=\"1\" class=\"dataframe\">\n",
       "  <thead>\n",
       "    <tr style=\"text-align: right;\">\n",
       "      <th></th>\n",
       "      <th>DishName</th>\n",
       "      <th>CookingMethod</th>\n",
       "      <th>CookingOccasion</th>\n",
       "      <th>MainIngredients</th>\n",
       "      <th>CuisineType</th>\n",
       "      <th>DishDescription</th>\n",
       "      <th>IngredientDetails</th>\n",
       "      <th>ServingSize</th>\n",
       "      <th>DifficultyLevel</th>\n",
       "      <th>CookingTime</th>\n",
       "    </tr>\n",
       "  </thead>\n",
       "  <tbody>\n",
       "    <tr>\n",
       "      <th>0</th>\n",
       "      <td>어묵김말이</td>\n",
       "      <td>튀김</td>\n",
       "      <td>간식</td>\n",
       "      <td>가공식품류</td>\n",
       "      <td>디저트</td>\n",
       "      <td>맛있는 김말이에 쫄깃함을 더한 어묵 김말이예요-</td>\n",
       "      <td>[재료] 어묵 2개| 김밥용김 3장| 당면 1움큼| 양파 1/2개| 당근 1/2개|...</td>\n",
       "      <td>2인분</td>\n",
       "      <td>초급</td>\n",
       "      <td>60분이내</td>\n",
       "    </tr>\n",
       "    <tr>\n",
       "      <th>1</th>\n",
       "      <td>두부새우전</td>\n",
       "      <td>부침</td>\n",
       "      <td>일상</td>\n",
       "      <td>해물류</td>\n",
       "      <td>밑반찬</td>\n",
       "      <td>꼬리가 너-무- 매력적인 두부새우전. 두부와 야채를 한번에!! 영양까지 만점인 두부...</td>\n",
       "      <td>[재료] 두부 1/2모| 당근 1/2개| 고추 2개| 브로콜리 1/4개| 새우 4마...</td>\n",
       "      <td>3인분</td>\n",
       "      <td>초급</td>\n",
       "      <td>30분이내</td>\n",
       "    </tr>\n",
       "    <tr>\n",
       "      <th>2</th>\n",
       "      <td>알밥</td>\n",
       "      <td>굽기</td>\n",
       "      <td>일상</td>\n",
       "      <td>해물류</td>\n",
       "      <td>밥/죽/떡</td>\n",
       "      <td>간단하게 만들어 보는 알이 톡톡톡 알밥♥ 다 먹고 누룽지까지 싹싹 긁어먹는게 최고죠...</td>\n",
       "      <td>[재료] 밥 1+1/2공기| 당근 1/4개| 치자단무지 1/2개| 신김치 1쪽| 무...</td>\n",
       "      <td>2인분</td>\n",
       "      <td>초급</td>\n",
       "      <td>30분이내</td>\n",
       "    </tr>\n",
       "  </tbody>\n",
       "</table>\n",
       "</div>"
      ],
      "text/plain": [
       "  DishName CookingMethod CookingOccasion MainIngredients CuisineType  \\\n",
       "0    어묵김말이            튀김              간식           가공식품류         디저트   \n",
       "1    두부새우전            부침              일상             해물류         밑반찬   \n",
       "2       알밥            굽기              일상             해물류       밥/죽/떡   \n",
       "\n",
       "                                     DishDescription  \\\n",
       "0                         맛있는 김말이에 쫄깃함을 더한 어묵 김말이예요-   \n",
       "1  꼬리가 너-무- 매력적인 두부새우전. 두부와 야채를 한번에!! 영양까지 만점인 두부...   \n",
       "2  간단하게 만들어 보는 알이 톡톡톡 알밥♥ 다 먹고 누룽지까지 싹싹 긁어먹는게 최고죠...   \n",
       "\n",
       "                                   IngredientDetails ServingSize  \\\n",
       "0  [재료] 어묵 2개| 김밥용김 3장| 당면 1움큼| 양파 1/2개| 당근 1/2개|...         2인분   \n",
       "1  [재료] 두부 1/2모| 당근 1/2개| 고추 2개| 브로콜리 1/4개| 새우 4마...         3인분   \n",
       "2  [재료] 밥 1+1/2공기| 당근 1/4개| 치자단무지 1/2개| 신김치 1쪽| 무...         2인분   \n",
       "\n",
       "  DifficultyLevel CookingTime  \n",
       "0              초급       60분이내  \n",
       "1              초급       30분이내  \n",
       "2              초급       30분이내  "
      ]
     },
     "execution_count": 5,
     "metadata": {},
     "output_type": "execute_result"
    }
   ],
   "source": [
    "df = pd.read_csv('./data/receipe_dataset.csv')\n",
    "df.columns = ['레시피일련번호', '레시피제목', '요리명', '등록자ID', '등록자명', '조회수',\n",
    "              '추천수', '스크랩수', '요리방법별명', '요리상황별명', '요리재료별명', \n",
    "              '요리종류별명', '요리소개', '요리재료내용', '요리인분명', '요리난이도명', '요리시간명', '최초등록일시']\n",
    "\n",
    "df = df[['요리명', '요리방법별명', '요리상황별명', '요리재료별명', '요리종류별명', '요리소개', '요리재료내용', '요리인분명',\n",
    "    '요리난이도명', '요리시간명']]\n",
    "\n",
    "df.columns = ['DishName', 'CookingMethod', 'CookingOccasion', 'MainIngredients', 'CuisineType', 'DishDescription', \n",
    "              'IngredientDetails', 'ServingSize', 'DifficultyLevel', 'CookingTime']\n",
    "df.head(3)"
   ]
  },
  {
   "cell_type": "code",
   "execution_count": null,
   "metadata": {},
   "outputs": [],
   "source": []
  }
 ],
 "metadata": {
  "kernelspec": {
   "display_name": "smartchef",
   "language": "python",
   "name": "python3"
  },
  "language_info": {
   "codemirror_mode": {
    "name": "ipython",
    "version": 3
   },
   "file_extension": ".py",
   "mimetype": "text/x-python",
   "name": "python",
   "nbconvert_exporter": "python",
   "pygments_lexer": "ipython3",
   "version": "3.8.19"
  }
 },
 "nbformat": 4,
 "nbformat_minor": 2
}
