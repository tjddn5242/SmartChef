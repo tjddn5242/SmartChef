{
 "cells": [
  {
   "cell_type": "code",
   "execution_count": 22,
   "metadata": {},
   "outputs": [],
   "source": [
    "from langchain_openai import ChatOpenAI\n",
    "from langchain_community.document_loaders.csv_loader import CSVLoader\n",
    "\n",
    "from pinecone.grpc import PineconeGRPC as Pinecone\n",
    "from pinecone import ServerlessSpec\n",
    "\n",
    "import json\n",
    "\n",
    "import pandas as pd\n",
    "import os"
   ]
  },
  {
   "cell_type": "code",
   "execution_count": 43,
   "metadata": {},
   "outputs": [],
   "source": [
    "OPENAI_API_KEY = os.environ['OPENAI_API_KEY']\n",
    "PINECONE_API_KEY = os.environ['PINECONE_API_KEY']\n",
    "\n",
    "chat_model = ChatOpenAI(api_key=OPENAI_API_KEY)\n",
    "pc = Pinecone(api_key=PINECONE_API_KEY)"
   ]
  },
  {
   "cell_type": "code",
   "execution_count": 36,
   "metadata": {},
   "outputs": [
    {
     "data": {
      "text/html": [
       "<div>\n",
       "<style scoped>\n",
       "    .dataframe tbody tr th:only-of-type {\n",
       "        vertical-align: middle;\n",
       "    }\n",
       "\n",
       "    .dataframe tbody tr th {\n",
       "        vertical-align: top;\n",
       "    }\n",
       "\n",
       "    .dataframe thead th {\n",
       "        text-align: right;\n",
       "    }\n",
       "</style>\n",
       "<table border=\"1\" class=\"dataframe\">\n",
       "  <thead>\n",
       "    <tr style=\"text-align: right;\">\n",
       "      <th></th>\n",
       "      <th>DishName</th>\n",
       "      <th>CookingMethod</th>\n",
       "      <th>CookingOccasion</th>\n",
       "      <th>MainIngredients</th>\n",
       "      <th>CuisineType</th>\n",
       "      <th>DishDescription</th>\n",
       "      <th>IngredientDetails</th>\n",
       "      <th>ServingSize</th>\n",
       "      <th>DifficultyLevel</th>\n",
       "      <th>CookingTime</th>\n",
       "    </tr>\n",
       "  </thead>\n",
       "  <tbody>\n",
       "    <tr>\n",
       "      <th>0</th>\n",
       "      <td>어묵김말이</td>\n",
       "      <td>튀김</td>\n",
       "      <td>간식</td>\n",
       "      <td>가공식품류</td>\n",
       "      <td>디저트</td>\n",
       "      <td>맛있는 김말이에 쫄깃함을 더한 어묵 김말이예요-</td>\n",
       "      <td>[재료] 어묵 2개| 김밥용김 3장| 당면 1움큼| 양파 1/2개| 당근 1/2개|...</td>\n",
       "      <td>2인분</td>\n",
       "      <td>초급</td>\n",
       "      <td>60분이내</td>\n",
       "    </tr>\n",
       "  </tbody>\n",
       "</table>\n",
       "</div>"
      ],
      "text/plain": [
       "  DishName CookingMethod CookingOccasion MainIngredients CuisineType  \\\n",
       "0    어묵김말이            튀김              간식           가공식품류         디저트   \n",
       "\n",
       "              DishDescription  \\\n",
       "0  맛있는 김말이에 쫄깃함을 더한 어묵 김말이예요-   \n",
       "\n",
       "                                   IngredientDetails ServingSize  \\\n",
       "0  [재료] 어묵 2개| 김밥용김 3장| 당면 1움큼| 양파 1/2개| 당근 1/2개|...         2인분   \n",
       "\n",
       "  DifficultyLevel CookingTime  \n",
       "0              초급       60분이내  "
      ]
     },
     "execution_count": 36,
     "metadata": {},
     "output_type": "execute_result"
    }
   ],
   "source": [
    "df = pd.read_csv('./data/receipe_dataset_demo.csv')\n",
    "df.head(1)"
   ]
  },
  {
   "cell_type": "code",
   "execution_count": 37,
   "metadata": {},
   "outputs": [],
   "source": [
    "def process_ingredients(ingredient_str):\n",
    "    ingredient_str = ingredient_str.replace(\"[재료] \", \"\")  # [재료] 제거\n",
    "    return [f\"'{ingredient.strip()}'\" for ingredient in ingredient_str.split('|')]\n",
    "\n",
    "df['Ingredients'] = df['IngredientDetails'].apply(process_ingredients)"
   ]
  },
  {
   "cell_type": "code",
   "execution_count": 39,
   "metadata": {},
   "outputs": [
    {
     "data": {
      "text/html": [
       "<div>\n",
       "<style scoped>\n",
       "    .dataframe tbody tr th:only-of-type {\n",
       "        vertical-align: middle;\n",
       "    }\n",
       "\n",
       "    .dataframe tbody tr th {\n",
       "        vertical-align: top;\n",
       "    }\n",
       "\n",
       "    .dataframe thead th {\n",
       "        text-align: right;\n",
       "    }\n",
       "</style>\n",
       "<table border=\"1\" class=\"dataframe\">\n",
       "  <thead>\n",
       "    <tr style=\"text-align: right;\">\n",
       "      <th></th>\n",
       "      <th>DishName</th>\n",
       "      <th>CookingTime</th>\n",
       "      <th>Ingredients</th>\n",
       "    </tr>\n",
       "  </thead>\n",
       "  <tbody>\n",
       "    <tr>\n",
       "      <th>0</th>\n",
       "      <td>어묵김말이</td>\n",
       "      <td>60분이내</td>\n",
       "      <td>['어묵 2개', '김밥용김 3장', '당면 1움큼', '양파 1/2개', '당근 ...</td>\n",
       "    </tr>\n",
       "    <tr>\n",
       "      <th>1</th>\n",
       "      <td>두부새우전</td>\n",
       "      <td>30분이내</td>\n",
       "      <td>['두부 1/2모', '당근 1/2개', '고추 2개', '브로콜리 1/4개', '...</td>\n",
       "    </tr>\n",
       "    <tr>\n",
       "      <th>2</th>\n",
       "      <td>알밥</td>\n",
       "      <td>30분이내</td>\n",
       "      <td>['밥 1+1/2공기', '당근 1/4개', '치자단무지 1/2개', '신김치 1쪽...</td>\n",
       "    </tr>\n",
       "    <tr>\n",
       "      <th>3</th>\n",
       "      <td>현미호두죽</td>\n",
       "      <td>30분이내</td>\n",
       "      <td>['현미 4컵', '찹쌀 2컵', '호두 50g', '물 1/2컵', '소금 약간']</td>\n",
       "    </tr>\n",
       "    <tr>\n",
       "      <th>4</th>\n",
       "      <td>북어갈비</td>\n",
       "      <td>60분이내</td>\n",
       "      <td>['북어포 1마리', '찹쌀가루 1C [양념] 간장 2T', '설탕 1T', '물 ...</td>\n",
       "    </tr>\n",
       "    <tr>\n",
       "      <th>5</th>\n",
       "      <td>토마토스파게티</td>\n",
       "      <td>30분이내</td>\n",
       "      <td>['파스타면 [양념] 토마토 1개', '토마토 페이스트 3T', '양파 1/2개',...</td>\n",
       "    </tr>\n",
       "    <tr>\n",
       "      <th>6</th>\n",
       "      <td>표고버섯탕수</td>\n",
       "      <td>30분이내</td>\n",
       "      <td>['건표고버섯 9개', '오이 1/2개', '당근 1/2개', '양파 1/2개', ...</td>\n",
       "    </tr>\n",
       "    <tr>\n",
       "      <th>7</th>\n",
       "      <td>갈릭치킨</td>\n",
       "      <td>60분이내</td>\n",
       "      <td>['닭 1마리 [닭양념] 통마늘 3개', '다진마늘 1T', '화이트와인또는우유',...</td>\n",
       "    </tr>\n",
       "    <tr>\n",
       "      <th>8</th>\n",
       "      <td>양파링튀김</td>\n",
       "      <td>30분이내</td>\n",
       "      <td>['양파1개', '빵가루', '달걀 노른자1개', '밀가루1C', '물 약간', '...</td>\n",
       "    </tr>\n",
       "    <tr>\n",
       "      <th>9</th>\n",
       "      <td>참치삼각김밥</td>\n",
       "      <td>30분이내</td>\n",
       "      <td>['밥 2공기', '참치캔 큰거 1개', '양파', '다진김치', '김밥용김 [양념...</td>\n",
       "    </tr>\n",
       "  </tbody>\n",
       "</table>\n",
       "</div>"
      ],
      "text/plain": [
       "  DishName CookingTime                                        Ingredients\n",
       "0    어묵김말이       60분이내  ['어묵 2개', '김밥용김 3장', '당면 1움큼', '양파 1/2개', '당근 ...\n",
       "1    두부새우전       30분이내  ['두부 1/2모', '당근 1/2개', '고추 2개', '브로콜리 1/4개', '...\n",
       "2       알밥       30분이내  ['밥 1+1/2공기', '당근 1/4개', '치자단무지 1/2개', '신김치 1쪽...\n",
       "3    현미호두죽       30분이내    ['현미 4컵', '찹쌀 2컵', '호두 50g', '물 1/2컵', '소금 약간']\n",
       "4     북어갈비       60분이내  ['북어포 1마리', '찹쌀가루 1C [양념] 간장 2T', '설탕 1T', '물 ...\n",
       "5  토마토스파게티       30분이내  ['파스타면 [양념] 토마토 1개', '토마토 페이스트 3T', '양파 1/2개',...\n",
       "6   표고버섯탕수       30분이내  ['건표고버섯 9개', '오이 1/2개', '당근 1/2개', '양파 1/2개', ...\n",
       "7     갈릭치킨       60분이내  ['닭 1마리 [닭양념] 통마늘 3개', '다진마늘 1T', '화이트와인또는우유',...\n",
       "8    양파링튀김       30분이내  ['양파1개', '빵가루', '달걀 노른자1개', '밀가루1C', '물 약간', '...\n",
       "9   참치삼각김밥       30분이내  ['밥 2공기', '참치캔 큰거 1개', '양파', '다진김치', '김밥용김 [양념..."
      ]
     },
     "execution_count": 39,
     "metadata": {},
     "output_type": "execute_result"
    }
   ],
   "source": [
    "df = df[['DishName', 'CookingTime', 'Ingredients']]\n",
    "df"
   ]
  },
  {
   "cell_type": "code",
   "execution_count": 44,
   "metadata": {},
   "outputs": [],
   "source": [
    "index_name = \"docs-quickstart-index\"\n",
    "\n",
    "if index_name not in pc.list_indexes().names():\n",
    "    pc.create_index(\n",
    "        name=index_name,\n",
    "        dimension=2,\n",
    "        metric=\"cosine\",\n",
    "        spec=ServerlessSpec(\n",
    "            cloud='aws', \n",
    "            region='us-east-1'\n",
    "        ) \n",
    "    ) \n"
   ]
  },
  {
   "cell_type": "code",
   "execution_count": 45,
   "metadata": {},
   "outputs": [
    {
     "data": {
      "text/plain": [
       "upserted_count: 3"
      ]
     },
     "execution_count": 45,
     "metadata": {},
     "output_type": "execute_result"
    }
   ],
   "source": [
    "index = pc.Index(index_name)\n",
    "\n",
    "index.upsert(\n",
    "    vectors=[\n",
    "        {\"id\": \"vec1\", \"values\": [1.0, 1.5]},\n",
    "        {\"id\": \"vec2\", \"values\": [2.0, 1.0]},\n",
    "        {\"id\": \"vec3\", \"values\": [0.1, 3.0]},\n",
    "    ],\n",
    "    namespace=\"ns1\"\n",
    ")\n",
    "\n",
    "index.upsert(\n",
    "    vectors=[\n",
    "        {\"id\": \"vec1\", \"values\": [1.0, -2.5]},\n",
    "        {\"id\": \"vec2\", \"values\": [3.0, -2.0]},\n",
    "        {\"id\": \"vec3\", \"values\": [0.5, -1.5]},\n",
    "    ],\n",
    "    namespace=\"ns2\"\n",
    ")"
   ]
  },
  {
   "cell_type": "code",
   "execution_count": 46,
   "metadata": {},
   "outputs": [
    {
     "name": "stdout",
     "output_type": "stream",
     "text": [
      "{'dimension': 2,\n",
      " 'index_fullness': 0.0,\n",
      " 'namespaces': {'ns1': {'vector_count': 3}, 'ns2': {'vector_count': 3}},\n",
      " 'total_vector_count': 6}\n"
     ]
    }
   ],
   "source": [
    "print(index.describe_index_stats())"
   ]
  },
  {
   "cell_type": "code",
   "execution_count": 47,
   "metadata": {},
   "outputs": [
    {
     "name": "stdout",
     "output_type": "stream",
     "text": [
      "{'matches': [{'id': 'vec1',\n",
      "              'metadata': None,\n",
      "              'score': 1.0,\n",
      "              'sparse_values': {'indices': [], 'values': []},\n",
      "              'values': [1.0, 1.5]},\n",
      "             {'id': 'vec2',\n",
      "              'metadata': None,\n",
      "              'score': 0.86824316,\n",
      "              'sparse_values': {'indices': [], 'values': []},\n",
      "              'values': [2.0, 1.0]},\n",
      "             {'id': 'vec3',\n",
      "              'metadata': None,\n",
      "              'score': 0.85006815,\n",
      "              'sparse_values': {'indices': [], 'values': []},\n",
      "              'values': [0.1, 3.0]}],\n",
      " 'namespace': 'ns1',\n",
      " 'usage': {'read_units': 6}}\n",
      "{'matches': [{'id': 'vec1',\n",
      "              'metadata': None,\n",
      "              'score': 1.0,\n",
      "              'sparse_values': {'indices': [], 'values': []},\n",
      "              'values': [1.0, -2.5]},\n",
      "             {'id': 'vec3',\n",
      "              'metadata': None,\n",
      "              'score': 0.9982744,\n",
      "              'sparse_values': {'indices': [], 'values': []},\n",
      "              'values': [0.5, -1.5]},\n",
      "             {'id': 'vec2',\n",
      "              'metadata': None,\n",
      "              'score': 0.82404196,\n",
      "              'sparse_values': {'indices': [], 'values': []},\n",
      "              'values': [3.0, -2.0]}],\n",
      " 'namespace': 'ns2',\n",
      " 'usage': {'read_units': 6}}\n"
     ]
    }
   ],
   "source": [
    "query_results1 = index.query(\n",
    "    namespace=\"ns1\",\n",
    "    vector=[1.0, 1.5],\n",
    "    top_k=3,\n",
    "    include_values=True\n",
    ")\n",
    "\n",
    "print(query_results1)\n",
    "\n",
    "query_results2 = index.query(\n",
    "    namespace=\"ns2\",\n",
    "    vector=[1.0,-2.5],\n",
    "    top_k=3,\n",
    "    include_values=True\n",
    ")\n",
    "\n",
    "print(query_results2)"
   ]
  },
  {
   "cell_type": "code",
   "execution_count": null,
   "metadata": {},
   "outputs": [],
   "source": []
  },
  {
   "cell_type": "code",
   "execution_count": null,
   "metadata": {},
   "outputs": [],
   "source": []
  },
  {
   "cell_type": "code",
   "execution_count": null,
   "metadata": {},
   "outputs": [],
   "source": [
    "# 이름, 시간, 요리법, 재료, 추가필요재료"
   ]
  }
 ],
 "metadata": {
  "kernelspec": {
   "display_name": "smartchef",
   "language": "python",
   "name": "python3"
  },
  "language_info": {
   "codemirror_mode": {
    "name": "ipython",
    "version": 3
   },
   "file_extension": ".py",
   "mimetype": "text/x-python",
   "name": "python",
   "nbconvert_exporter": "python",
   "pygments_lexer": "ipython3",
   "version": "3.8.19"
  }
 },
 "nbformat": 4,
 "nbformat_minor": 2
}
